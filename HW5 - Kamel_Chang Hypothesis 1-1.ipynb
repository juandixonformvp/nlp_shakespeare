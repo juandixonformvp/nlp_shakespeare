{
 "cells": [
  {
   "cell_type": "markdown",
   "metadata": {},
   "source": [
    "# Homework 5"
   ]
  },
  {
   "cell_type": "code",
   "execution_count": 4,
   "metadata": {
    "collapsed": true
   },
   "outputs": [],
   "source": [
    "import networkx as nx #pip install networkx\n",
    "import pandas as pd \n",
    "import numpy as np\n",
    "import matplotlib.pyplot as plt \n",
    "%matplotlib inline\n",
    "import seaborn as sns\n",
    "\n",
    "import nltk\n",
    "import string\n",
    "from textblob import TextBlob  #Sentiment Analysis - pip install textblob\n",
    "from sklearn.feature_extraction.text import TfidfVectorizer, CountVectorizer\n",
    "from sklearn.decomposition import TruncatedSVD\n",
    "from sklearn.datasets import fetch_20newsgroups\n",
    "from sklearn.cluster import KMeans\n",
    "from sklearn.pipeline import make_pipeline\n",
    "from sklearn.preprocessing import Normalizer\n",
    "from sklearn import metrics\n",
    "\n",
    "\n",
    "from bs4 import BeautifulSoup #pip install beautifulsoup4\n",
    "import requests\n",
    "import re\n"
   ]
  },
  {
   "cell_type": "code",
   "execution_count": 5,
   "metadata": {
    "collapsed": true
   },
   "outputs": [],
   "source": [
    "url = 'http://shakespeare.mit.edu/'\n",
    "main_page=requests.get(url)\n",
    "soup = BeautifulSoup(main_page.text, \"html.parser\")"
   ]
  },
  {
   "cell_type": "markdown",
   "metadata": {
    "collapsed": true
   },
   "source": [
    "### This hypothesis is about answering the question of whether Shakespeare sentiment of writing style is hanging overtime from his first play until the end. We have downloaded the data by updating the section's code."
   ]
  },
  {
   "cell_type": "code",
   "execution_count": 6,
   "metadata": {},
   "outputs": [
    {
     "name": "stdout",
     "output_type": "stream",
     "text": [
      "17  plays in group  Comedy\n",
      "10  plays in group  History\n",
      "10  plays in group  Tragedy\n",
      "5  plays in group  Poetry\n"
     ]
    }
   ],
   "source": [
    "#reading title of Shakespeare literary work\n",
    "title_list = []\n",
    "i = 0\n",
    "#finding literature types\n",
    "lit_types = soup.find_all(\"table\")[1].find_all(\"tr\")\n",
    "lit_type_list = ['Comedy', 'History', 'Tragedy', 'Poetry']\n",
    "base_url = 'http://shakespeare.mit.edu/'\n",
    "for group in lit_types[1].find_all(\"td\"):\n",
    "    group_len = len(group.find_all(\"a\"))\n",
    "    group_name = lit_type_list[i]\n",
    "    print(group_len, \" plays in group \", group_name)\n",
    "    for link in group.find_all(\"a\"):\n",
    "        temp_dict = {}\n",
    "        temp_dict['literature_type'] = group_name\n",
    "        temp_dict['title'] = link.contents[0].strip()\n",
    "        temp_dict['url'] = base_url + link.attrs['href']\n",
    "        title_list.append(temp_dict)\n",
    "    i += 1"
   ]
  },
  {
   "cell_type": "code",
   "execution_count": 7,
   "metadata": {},
   "outputs": [
    {
     "data": {
      "text/plain": [
       "(42, 3)"
      ]
     },
     "execution_count": 7,
     "metadata": {},
     "output_type": "execute_result"
    }
   ],
   "source": [
    "pd.DataFrame(title_list).shape"
   ]
  },
  {
   "cell_type": "markdown",
   "metadata": {},
   "source": [
    "### Next we will import each part in the play alone, we have different structure in some plays in term of HTML."
   ]
  },
  {
   "cell_type": "code",
   "execution_count": 10,
   "metadata": {},
   "outputs": [
    {
     "name": "stdout",
     "output_type": "stream",
     "text": [
      "full.html\n"
     ]
    }
   ],
   "source": [
    "import urllib3\n",
    "http = urllib3.PoolManager()\n",
    "play_scene_list = []\n",
    "for i in range(38):\n",
    "    #The First part of King Henry the Fourth\n",
    "    soup = BeautifulSoup(requests.get(pd.DataFrame(title_list)['url'][i]).text, \"html.parser\")\n",
    "    #reading content of scenes in play\n",
    "    for link in soup.find_all(\"a\")[3:]:\n",
    "        link_s = link.attrs['href']\n",
    "        if (link_s.count('.') == 3):\n",
    "            play_scene_dict = {}\n",
    "            play_scene_dict['literature_type'] = pd.DataFrame(title_list)['literature_type'][i]\n",
    "            play_scene_dict['title'] = pd.DataFrame(title_list)['title'][i]\n",
    "            play_scene_dict['scene_title'] = link.contents[0].strip()\n",
    "            play_scene_dict['scene_url'] = 'http://shakespeare.mit.edu/' + link.attrs['href'].split(\".\")[0] +'/' + link.attrs['href']\n",
    "            play_scene_dict['act'] = link_s.split('.')[-3]\n",
    "            play_scene_dict['scene'] = link_s.split('.')[-2]\n",
    "            s=BeautifulSoup(requests.get('http://shakespeare.mit.edu/' + link.attrs['href'].split(\".\")[0] +'/' + link.attrs['href']).text, \"html.parser\")\n",
    "            play_scene_dict['text'] =s.get_text()\n",
    "            play_scene_list.append(play_scene_dict)\n",
    "            #print(i,link_s)\n",
    "        elif (link_s.count('.') == 2):\n",
    "                play_scene_dict = {}\n",
    "                play_scene_dict['literature_type'] = pd.DataFrame(title_list)['literature_type'][i]\n",
    "                play_scene_dict['title'] = pd.DataFrame(title_list)['title'][i]\n",
    "                play_scene_dict['scene_title'] = link.contents[0].strip()\n",
    "                play_scene_dict['scene_url'] = 'http://shakespeare.mit.edu/Poetry/' + link.attrs['href']\n",
    "                play_scene_dict['act'] = link_s.split('.')[-2]\n",
    "                play_scene_dict['scene'] = link.attrs['href'].split(\".\")[0]+ link_s.split('.')[-2]\n",
    "                s=BeautifulSoup(requests.get('http://shakespeare.mit.edu/Poetry/' + link.attrs['href']).text, \"html.parser\")\n",
    "                play_scene_dict['text'] =s.get_text()\n",
    "                play_scene_list.append(play_scene_dict)\n",
    "        else: \n",
    "            print(link_s)\n",
    "            pass\n",
    "        \n",
    "for i in (38,39,40,41):\n",
    "            soup = BeautifulSoup(requests.get(pd.DataFrame(title_list)['url'][i]).text, \"html.parser\")\n",
    "            play_scene_dict = {}\n",
    "            play_scene_dict['literature_type'] = pd.DataFrame(title_list)['literature_type'][i]\n",
    "            play_scene_dict['title'] = pd.DataFrame(title_list)['title'][i]\n",
    "            play_scene_dict['scene_title'] = pd.DataFrame(title_list)['url'][i].split(\"/\")[-1].split(\".\")[-2]\n",
    "            play_scene_dict['scene_url'] = pd.DataFrame(title_list)['url'][i]\n",
    "            play_scene_dict['act'] = pd.DataFrame(title_list)['url'][i].split(\"/\")[-1].split(\".\")[-2]\n",
    "            play_scene_dict['scene'] = pd.DataFrame(title_list)['url'][i].split(\"/\")[-1].split(\".\")[-2]\n",
    "            s=BeautifulSoup(requests.get(pd.DataFrame(title_list)['url'][i]).text, \"html.parser\")\n",
    "            play_scene_dict['text'] =s.get_text()\n",
    "            play_scene_list.append(play_scene_dict)"
   ]
  },
  {
   "cell_type": "code",
   "execution_count": 11,
   "metadata": {},
   "outputs": [
    {
     "data": {
      "text/plain": [
       "'Measure for Measure'"
      ]
     },
     "execution_count": 11,
     "metadata": {},
     "output_type": "execute_result"
    }
   ],
   "source": [
    "pd.DataFrame(play_scene_list)['title'][100]"
   ]
  },
  {
   "cell_type": "markdown",
   "metadata": {},
   "source": [
    "### In the above code, based on section code, I have automate the creation of each scene and act url. The last part of Poetry differs from the previous, thats why it is coded seperately with some special adjustment"
   ]
  },
  {
   "cell_type": "code",
   "execution_count": 12,
   "metadata": {},
   "outputs": [
    {
     "data": {
      "text/plain": [
       "{\"A Lover's Complaint\",\n",
       " \"A Midsummer Night's Dream\",\n",
       " \"All's Well That Ends Well\",\n",
       " 'Antony and Cleopatra',\n",
       " 'As You Like It',\n",
       " 'Coriolanus',\n",
       " 'Cymbeline',\n",
       " 'Funeral Elegy by W.S.',\n",
       " 'Hamlet',\n",
       " 'Henry IV, part 1',\n",
       " 'Henry IV, part 2',\n",
       " 'Henry V',\n",
       " 'Henry VI, part 1',\n",
       " 'Henry VI, part 2',\n",
       " 'Henry VI, part 3',\n",
       " 'Henry VIII',\n",
       " 'Julius Caesar',\n",
       " 'King John',\n",
       " 'King Lear',\n",
       " \"Love's Labours Lost\",\n",
       " 'Macbeth',\n",
       " 'Measure for Measure',\n",
       " 'Much Ado About Nothing',\n",
       " 'Othello',\n",
       " 'Pericles, Prince of Tyre',\n",
       " 'Richard II',\n",
       " 'Richard III',\n",
       " 'Romeo and Juliet',\n",
       " 'Taming of the Shrew',\n",
       " 'The\\nMerry Wives of Windsor',\n",
       " 'The Comedy of Errors',\n",
       " 'The Merchant of Venice',\n",
       " 'The Rape of Lucrece',\n",
       " 'The Sonnets',\n",
       " 'The Tempest',\n",
       " 'Timon of Athens',\n",
       " 'Titus Andronicus',\n",
       " 'Troilus and Cressida',\n",
       " 'Twelfth Night',\n",
       " 'Two Gentlemen of Verona',\n",
       " 'Venus and Adonis',\n",
       " \"Winter's Tale\"}"
      ]
     },
     "execution_count": 12,
     "metadata": {},
     "output_type": "execute_result"
    }
   ],
   "source": [
    "set(pd.DataFrame(play_scene_list)['title'])"
   ]
  },
  {
   "cell_type": "markdown",
   "metadata": {
    "collapsed": true
   },
   "source": [
    "### The list of above works by shakspeare is dated on another website (https://www.thoughtco.com/list-of-shakespeare-plays-2985250) and i have got from their a listing by time which will be added to the above dataframe.\n"
   ]
  },
  {
   "cell_type": "code",
   "execution_count": 14,
   "metadata": {},
   "outputs": [
    {
     "name": "stderr",
     "output_type": "stream",
     "text": [
      "C:\\Users\\User\\Anaconda3v1\\lib\\site-packages\\ipykernel_launcher.py:2: SettingWithCopyWarning: \n",
      "A value is trying to be set on a copy of a slice from a DataFrame\n",
      "\n",
      "See the caveats in the documentation: http://pandas.pydata.org/pandas-docs/stable/indexing.html#indexing-view-versus-copy\n",
      "  \n"
     ]
    }
   ],
   "source": [
    "dates= pd.read_csv(\"ranks plays.csv\")\n",
    "dates['title'][24]='The\\nMerry Wives of Windsor'"
   ]
  },
  {
   "cell_type": "code",
   "execution_count": 15,
   "metadata": {
    "collapsed": true
   },
   "outputs": [],
   "source": [
    "play_scene_list1=pd.DataFrame(play_scene_list).merge(dates, on='title', how='left')"
   ]
  },
  {
   "cell_type": "markdown",
   "metadata": {},
   "source": [
    "### Therefore the above data frame play_scene_list1 contains the data of all shakespeare plays with an index under Date collumns to sort plays in chronological order.\n",
    "\n",
    "### In the following part, we will do sentiment analysis on each play to differentiate between the degree of positivity and negativity and then track it overtime to see if the if the behavior of shakespear is changing overtime."
   ]
  },
  {
   "cell_type": "code",
   "execution_count": 16,
   "metadata": {},
   "outputs": [
    {
     "data": {
      "text/plain": [
       "\"\\n\\n\\nSCENE II. Paris. The KING's palace.\\n \\n\\n\\n\\n\\n\\nAll's Well That Ends Well\\n\\nShakespeare homepage \\n    | All's Well That Ends Well \\n    | Act 1, Scene 2\\n   \\nPrevious scene\\n    | Next scene\\n\\nSCENE II. Paris. The KING's palace.\\n\\nFlourish of cornets. Enter the KING of France, with letters, and divers Attendants\\n\\nKING\\n\\nThe Florentines and Senoys are by the ears;\\nHave fought with equal fortune and continue\\nA braving war.\\n\\nFirst Lord\\n\\n                  So 'tis reported, sir.\\n\\nKING\\n\\nNay, 'tis most credible; we here received it\\nA certainty, vouch'd from our cousin Austria,\\nWith caution that the Florentine will move us\\nFor speedy aid; wherein our dearest friend\\nPrejudicates the business and would seem\\nTo have us make denial.\\n\\nFirst Lord\\n\\nHis love and wisdom,\\nApproved so to your majesty, may plead\\nFor amplest credence.\\n\\nKING\\n\\nHe hath arm'd our answer,\\nAnd Florence is denied before he comes:\\nYet, for our gentlemen that mean to see\\nThe Tuscan service, freely have they leave\\nTo stand on either part.\\n\\nSecond Lord\\n\\nIt well may serve\\nA nursery to our gentry, who are sick\\nFor breathing and exploit.\\n\\nKING\\n\\nWhat's he comes here?\\nEnter BERTRAM, LAFEU, and PAROLLES\\n\\nFirst Lord\\n\\nIt is the Count Rousillon, my good lord,\\nYoung Bertram.\\n\\nKING\\n\\n                  Youth, thou bear'st thy father's face;\\nFrank nature, rather curious than in haste,\\nHath well composed thee. Thy father's moral parts\\nMayst thou inherit too! Welcome to Paris.\\n\\nBERTRAM\\n\\nMy thanks and duty are your majesty's.\\n\\nKING\\n\\nI would I had that corporal soundness now,\\nAs when thy father and myself in friendship\\nFirst tried our soldiership! He did look far\\nInto the service of the time and was\\nDiscipled of the bravest: he lasted long;\\nBut on us both did haggish age steal on\\nAnd wore us out of act. It much repairs me\\nTo talk of your good father. In his youth\\nHe had the wit which I can well observe\\nTo-day in our young lords; but they may jest\\nTill their own scorn return to them unnoted\\nEre they can hide their levity in honour;\\nSo like a courtier, contempt nor bitterness\\nWere in his pride or sharpness; if they were,\\nHis equal had awaked them, and his honour,\\nClock to itself, knew the true minute when\\nException bid him speak, and at this time\\nHis tongue obey'd his hand: who were below him\\nHe used as creatures of another place\\nAnd bow'd his eminent top to their low ranks,\\nMaking them proud of his humility,\\nIn their poor praise he humbled. Such a man\\nMight be a copy to these younger times;\\nWhich, follow'd well, would demonstrate them now\\nBut goers backward.\\n\\nBERTRAM\\n\\nHis good remembrance, sir,\\nLies richer in your thoughts than on his tomb;\\nSo in approof lives not his epitaph\\nAs in your royal speech.\\n\\nKING\\n\\nWould I were with him! He would always say--\\nMethinks I hear him now; his plausive words\\nHe scatter'd not in ears, but grafted them,\\nTo grow there and to bear,--'Let me not live,'--\\nThis his good melancholy oft began,\\nOn the catastrophe and heel of pastime,\\nWhen it was out,--'Let me not live,' quoth he,\\n'After my flame lacks oil, to be the snuff\\nOf younger spirits, whose apprehensive senses\\nAll but new things disdain; whose judgments are\\nMere fathers of their garments; whose constancies\\nExpire before their fashions.' This he wish'd;\\nI after him do after him wish too,\\nSince I nor wax nor honey can bring home,\\nI quickly were dissolved from my hive,\\nTo give some labourers room.\\n\\nSecond Lord\\n\\nYou are loved, sir:\\nThey that least lend it you shall lack you first.\\n\\nKING\\n\\nI fill a place, I know't. How long is't, count,\\nSince the physician at your father's died?\\nHe was much famed.\\n\\nBERTRAM\\n\\n                  Some six months since, my lord.\\n\\nKING\\n\\nIf he were living, I would try him yet.\\nLend me an arm; the rest have worn me out\\nWith several applications; nature and sickness\\nDebate it at their leisure. Welcome, count;\\nMy son's no dearer.\\n\\nBERTRAM\\n\\nThank your majesty.\\nExeunt. Flourish\\n\\n\\n\\nShakespeare homepage \\n    | All's Well That Ends Well \\n    | Act 1, Scene 2\\n   \\nPrevious scene\\n    | Next scene\\n\\n\\n\\n\""
      ]
     },
     "execution_count": 16,
     "metadata": {},
     "output_type": "execute_result"
    }
   ],
   "source": [
    "play_scene_list1['text'][1]"
   ]
  },
  {
   "cell_type": "markdown",
   "metadata": {
    "collapsed": true
   },
   "source": [
    "### Next we will calculate the polarity (sentiment) for each teaxt/row in the data"
   ]
  },
  {
   "cell_type": "code",
   "execution_count": 17,
   "metadata": {
    "collapsed": true
   },
   "outputs": [],
   "source": [
    "from textblob import TextBlob\n",
    "sentiments=[]\n",
    "for i in range(910):\n",
    "    sent={}\n",
    "    testimonial = TextBlob(play_scene_list1['text'][i])\n",
    "    sent['sentiment']=testimonial.sentiment.polarity\n",
    "    sent['subjectivity']=testimonial.sentiment.subjectivity\n",
    "    sent['date']=play_scene_list1['Date'][i]\n",
    "    sentiments.append(sent)\n",
    "    #print(testimonial.sentiment,play_scene_list1['Date'][i])"
   ]
  },
  {
   "cell_type": "markdown",
   "metadata": {
    "collapsed": true
   },
   "source": [
    "### Next we will plot the changes of sentiment and subjectivity over time (time is coded from 1 to 43) according to the year of publishing of this play."
   ]
  },
  {
   "cell_type": "code",
   "execution_count": 21,
   "metadata": {},
   "outputs": [
    {
     "data": {
      "image/png": "[encoded data removed]",
      "text/plain": [
       "<matplotlib.figure.Figure at 0x1d0bd2e8>"
      ]
     },
     "metadata": {},
     "output_type": "display_data"
    }
   ],
   "source": [
    "_=pd.DataFrame(sentiments)[['date','sentiment','subjectivity']].boxplot(by='date')"
   ]
  },
  {
   "cell_type": "markdown",
   "metadata": {},
   "source": [
    "### Reading about the family of Shakespear, a child Hamnet was died at the age of 11 in year 1596; Although based on the above sentiment chart we don't see a shift from the overall sentiment levels (around 13-14). \n",
    "\n",
    "### The above high volatility in sentiment polarity is coming from Poetry, Sonnet plays. There is big number of that short plays with different sentiments.\n"
   ]
  },
  {
   "cell_type": "code",
   "execution_count": 22,
   "metadata": {},
   "outputs": [
    {
     "data": {
      "text/html": [
       "<div>\n",
       "<style>\n",
       "    .dataframe thead tr:only-child th {\n",
       "        text-align: right;\n",
       "    }\n",
       "\n",
       "    .dataframe thead th {\n",
       "        text-align: left;\n",
       "    }\n",
       "\n",
       "    .dataframe tbody tr th {\n",
       "        vertical-align: top;\n",
       "    }\n",
       "</style>\n",
       "<table border=\"1\" class=\"dataframe\">\n",
       "  <thead>\n",
       "    <tr style=\"text-align: right;\">\n",
       "      <th></th>\n",
       "      <th>act</th>\n",
       "      <th>literature_type</th>\n",
       "      <th>scene</th>\n",
       "      <th>scene_title</th>\n",
       "      <th>scene_url</th>\n",
       "      <th>text</th>\n",
       "      <th>title</th>\n",
       "      <th>Date</th>\n",
       "    </tr>\n",
       "  </thead>\n",
       "  <tbody>\n",
       "    <tr>\n",
       "      <th>754</th>\n",
       "      <td>III</td>\n",
       "      <td>Poetry</td>\n",
       "      <td>sonnetIII</td>\n",
       "      <td>III. Look in thy glass, and tell the face thou...</td>\n",
       "      <td>http://shakespeare.mit.edu/Poetry/sonnet.III.html</td>\n",
       "      <td>Sonnet III\\nSonnet III\\nLook in thy glass, and...</td>\n",
       "      <td>The Sonnets</td>\n",
       "      <td>35</td>\n",
       "    </tr>\n",
       "    <tr>\n",
       "      <th>755</th>\n",
       "      <td>IV</td>\n",
       "      <td>Poetry</td>\n",
       "      <td>sonnetIV</td>\n",
       "      <td>IV. Unthrifty loveliness, why dost thou spend</td>\n",
       "      <td>http://shakespeare.mit.edu/Poetry/sonnet.IV.html</td>\n",
       "      <td>Sonnet IV\\nSonnet IV\\nUnthrifty loveliness, wh...</td>\n",
       "      <td>The Sonnets</td>\n",
       "      <td>35</td>\n",
       "    </tr>\n",
       "    <tr>\n",
       "      <th>756</th>\n",
       "      <td>V</td>\n",
       "      <td>Poetry</td>\n",
       "      <td>sonnetV</td>\n",
       "      <td>V. Those hours, that with gentle work did frame</td>\n",
       "      <td>http://shakespeare.mit.edu/Poetry/sonnet.V.html</td>\n",
       "      <td>Sonnet V\\nSonnet V\\nThose hours, that with gen...</td>\n",
       "      <td>The Sonnets</td>\n",
       "      <td>35</td>\n",
       "    </tr>\n",
       "    <tr>\n",
       "      <th>757</th>\n",
       "      <td>VI</td>\n",
       "      <td>Poetry</td>\n",
       "      <td>sonnetVI</td>\n",
       "      <td>VI. Then let not winter's ragged hand deface</td>\n",
       "      <td>http://shakespeare.mit.edu/Poetry/sonnet.VI.html</td>\n",
       "      <td>Sonnet VI\\nSonnet VI\\nThen let not winter's ra...</td>\n",
       "      <td>The Sonnets</td>\n",
       "      <td>35</td>\n",
       "    </tr>\n",
       "    <tr>\n",
       "      <th>758</th>\n",
       "      <td>VII</td>\n",
       "      <td>Poetry</td>\n",
       "      <td>sonnetVII</td>\n",
       "      <td>VII. Lo! in the orient when the gracious light</td>\n",
       "      <td>http://shakespeare.mit.edu/Poetry/sonnet.VII.html</td>\n",
       "      <td>Sonnet VII\\nSonnet VII\\nLo! in the orient when...</td>\n",
       "      <td>The Sonnets</td>\n",
       "      <td>35</td>\n",
       "    </tr>\n",
       "    <tr>\n",
       "      <th>759</th>\n",
       "      <td>VIII</td>\n",
       "      <td>Poetry</td>\n",
       "      <td>sonnetVIII</td>\n",
       "      <td>VIII. Music to hear, why hear'st thou music sa...</td>\n",
       "      <td>http://shakespeare.mit.edu/Poetry/sonnet.VIII....</td>\n",
       "      <td>Sonnet VIII\\nSonnet VIII\\nMusic to hear, why h...</td>\n",
       "      <td>The Sonnets</td>\n",
       "      <td>35</td>\n",
       "    </tr>\n",
       "    <tr>\n",
       "      <th>760</th>\n",
       "      <td>IX</td>\n",
       "      <td>Poetry</td>\n",
       "      <td>sonnetIX</td>\n",
       "      <td>IX. Is it for fear to wet a widow's eye</td>\n",
       "      <td>http://shakespeare.mit.edu/Poetry/sonnet.IX.html</td>\n",
       "      <td>Sonnet IX\\nSonnet IX\\nIs it for fear to wet a ...</td>\n",
       "      <td>The Sonnets</td>\n",
       "      <td>35</td>\n",
       "    </tr>\n",
       "    <tr>\n",
       "      <th>761</th>\n",
       "      <td>X</td>\n",
       "      <td>Poetry</td>\n",
       "      <td>sonnetX</td>\n",
       "      <td>X. For shame! deny that thou bear'st love to any,</td>\n",
       "      <td>http://shakespeare.mit.edu/Poetry/sonnet.X.html</td>\n",
       "      <td>Sonnet X\\nSonnet X\\nFor shame! deny that thou ...</td>\n",
       "      <td>The Sonnets</td>\n",
       "      <td>35</td>\n",
       "    </tr>\n",
       "    <tr>\n",
       "      <th>762</th>\n",
       "      <td>XI</td>\n",
       "      <td>Poetry</td>\n",
       "      <td>sonnetXI</td>\n",
       "      <td>XI. As fast as thou shalt wane, so fast thou g...</td>\n",
       "      <td>http://shakespeare.mit.edu/Poetry/sonnet.XI.html</td>\n",
       "      <td>Sonnet XI\\nSonnet XI\\nAs fast as thou shalt wa...</td>\n",
       "      <td>The Sonnets</td>\n",
       "      <td>35</td>\n",
       "    </tr>\n",
       "    <tr>\n",
       "      <th>763</th>\n",
       "      <td>XII</td>\n",
       "      <td>Poetry</td>\n",
       "      <td>sonnetXII</td>\n",
       "      <td>XII. When I do count the clock that tells the ...</td>\n",
       "      <td>http://shakespeare.mit.edu/Poetry/sonnet.XII.html</td>\n",
       "      <td>Sonnet XII\\nSonnet XII\\nWhen I do count the cl...</td>\n",
       "      <td>The Sonnets</td>\n",
       "      <td>35</td>\n",
       "    </tr>\n",
       "    <tr>\n",
       "      <th>764</th>\n",
       "      <td>XIII</td>\n",
       "      <td>Poetry</td>\n",
       "      <td>sonnetXIII</td>\n",
       "      <td>XIII. O, that you were yourself! but, love, yo...</td>\n",
       "      <td>http://shakespeare.mit.edu/Poetry/sonnet.XIII....</td>\n",
       "      <td>Sonnet XIII\\nSonnet XIII\\nO, that you were you...</td>\n",
       "      <td>The Sonnets</td>\n",
       "      <td>35</td>\n",
       "    </tr>\n",
       "    <tr>\n",
       "      <th>765</th>\n",
       "      <td>XIV</td>\n",
       "      <td>Poetry</td>\n",
       "      <td>sonnetXIV</td>\n",
       "      <td>XIV. Not from the stars do I my judgment pluck;</td>\n",
       "      <td>http://shakespeare.mit.edu/Poetry/sonnet.XIV.html</td>\n",
       "      <td>Sonnet XIV\\nSonnet XIV\\nNot from the stars do ...</td>\n",
       "      <td>The Sonnets</td>\n",
       "      <td>35</td>\n",
       "    </tr>\n",
       "    <tr>\n",
       "      <th>766</th>\n",
       "      <td>XV</td>\n",
       "      <td>Poetry</td>\n",
       "      <td>sonnetXV</td>\n",
       "      <td>XV. When I consider every thing that grows</td>\n",
       "      <td>http://shakespeare.mit.edu/Poetry/sonnet.XV.html</td>\n",
       "      <td>Sonnet XV\\nSonnet XV\\nWhen I consider every th...</td>\n",
       "      <td>The Sonnets</td>\n",
       "      <td>35</td>\n",
       "    </tr>\n",
       "    <tr>\n",
       "      <th>767</th>\n",
       "      <td>XVI</td>\n",
       "      <td>Poetry</td>\n",
       "      <td>sonnetXVI</td>\n",
       "      <td>XVI. But wherefore do not you a mightier way</td>\n",
       "      <td>http://shakespeare.mit.edu/Poetry/sonnet.XVI.html</td>\n",
       "      <td>Sonnet XVI\\nSonnet XVI\\nBut wherefore do not y...</td>\n",
       "      <td>The Sonnets</td>\n",
       "      <td>35</td>\n",
       "    </tr>\n",
       "    <tr>\n",
       "      <th>768</th>\n",
       "      <td>XVII</td>\n",
       "      <td>Poetry</td>\n",
       "      <td>sonnetXVII</td>\n",
       "      <td>XVII. Who will believe my verse in time to come,</td>\n",
       "      <td>http://shakespeare.mit.edu/Poetry/sonnet.XVII....</td>\n",
       "      <td>Sonnet XVII\\nSonnet XVII\\nWho will believe my ...</td>\n",
       "      <td>The Sonnets</td>\n",
       "      <td>35</td>\n",
       "    </tr>\n",
       "    <tr>\n",
       "      <th>769</th>\n",
       "      <td>XVIII</td>\n",
       "      <td>Poetry</td>\n",
       "      <td>sonnetXVIII</td>\n",
       "      <td>XVIII. Shall I compare thee to a summer's day?</td>\n",
       "      <td>http://shakespeare.mit.edu/Poetry/sonnet.XVIII...</td>\n",
       "      <td>Sonnet XVIII\\nSonnet XVIII\\nShall I compare th...</td>\n",
       "      <td>The Sonnets</td>\n",
       "      <td>35</td>\n",
       "    </tr>\n",
       "    <tr>\n",
       "      <th>770</th>\n",
       "      <td>XIX</td>\n",
       "      <td>Poetry</td>\n",
       "      <td>sonnetXIX</td>\n",
       "      <td>XIX. Devouring Time, blunt thou the lion's paws,</td>\n",
       "      <td>http://shakespeare.mit.edu/Poetry/sonnet.XIX.html</td>\n",
       "      <td>Sonnet XIX\\nSonnet XIX\\nDevouring Time, blunt ...</td>\n",
       "      <td>The Sonnets</td>\n",
       "      <td>35</td>\n",
       "    </tr>\n",
       "    <tr>\n",
       "      <th>771</th>\n",
       "      <td>XX</td>\n",
       "      <td>Poetry</td>\n",
       "      <td>sonnetXX</td>\n",
       "      <td>XX. A woman's face with Nature's own hand painted</td>\n",
       "      <td>http://shakespeare.mit.edu/Poetry/sonnet.XX.html</td>\n",
       "      <td>Sonnet XX\\nSonnet XX\\nA woman's face with Natu...</td>\n",
       "      <td>The Sonnets</td>\n",
       "      <td>35</td>\n",
       "    </tr>\n",
       "    <tr>\n",
       "      <th>772</th>\n",
       "      <td>XXI</td>\n",
       "      <td>Poetry</td>\n",
       "      <td>sonnetXXI</td>\n",
       "      <td>XXI. So is it not with me as with that Muse</td>\n",
       "      <td>http://shakespeare.mit.edu/Poetry/sonnet.XXI.html</td>\n",
       "      <td>Sonnet XXI\\nSonnet XXI\\nSo is it not with me a...</td>\n",
       "      <td>The Sonnets</td>\n",
       "      <td>35</td>\n",
       "    </tr>\n",
       "    <tr>\n",
       "      <th>773</th>\n",
       "      <td>XXII</td>\n",
       "      <td>Poetry</td>\n",
       "      <td>sonnetXXII</td>\n",
       "      <td>XXII. My glass shall not persuade me I am old,</td>\n",
       "      <td>http://shakespeare.mit.edu/Poetry/sonnet.XXII....</td>\n",
       "      <td>Sonnet XXII\\nSonnet XXII\\nMy glass shall not p...</td>\n",
       "      <td>The Sonnets</td>\n",
       "      <td>35</td>\n",
       "    </tr>\n",
       "    <tr>\n",
       "      <th>774</th>\n",
       "      <td>XXIII</td>\n",
       "      <td>Poetry</td>\n",
       "      <td>sonnetXXIII</td>\n",
       "      <td>XXIII. As an unperfect actor on the stage</td>\n",
       "      <td>http://shakespeare.mit.edu/Poetry/sonnet.XXIII...</td>\n",
       "      <td>Sonnet XXIII\\nSonnet XXIII\\nAs an unperfect ac...</td>\n",
       "      <td>The Sonnets</td>\n",
       "      <td>35</td>\n",
       "    </tr>\n",
       "    <tr>\n",
       "      <th>775</th>\n",
       "      <td>XXIV</td>\n",
       "      <td>Poetry</td>\n",
       "      <td>sonnetXXIV</td>\n",
       "      <td>XXIV. Mine eye hath play'd the painter and hat...</td>\n",
       "      <td>http://shakespeare.mit.edu/Poetry/sonnet.XXIV....</td>\n",
       "      <td>Sonnet XXIV\\nSonnet XXIV\\nMine eye hath play'd...</td>\n",
       "      <td>The Sonnets</td>\n",
       "      <td>35</td>\n",
       "    </tr>\n",
       "    <tr>\n",
       "      <th>776</th>\n",
       "      <td>XXV</td>\n",
       "      <td>Poetry</td>\n",
       "      <td>sonnetXXV</td>\n",
       "      <td>XXV. Let those who are in favour with their stars</td>\n",
       "      <td>http://shakespeare.mit.edu/Poetry/sonnet.XXV.html</td>\n",
       "      <td>Sonnet XXV\\nSonnet XXV\\nLet those who are in f...</td>\n",
       "      <td>The Sonnets</td>\n",
       "      <td>35</td>\n",
       "    </tr>\n",
       "    <tr>\n",
       "      <th>777</th>\n",
       "      <td>XXVI</td>\n",
       "      <td>Poetry</td>\n",
       "      <td>sonnetXXVI</td>\n",
       "      <td>XXVI. Lord of my love, to whom in vassalage</td>\n",
       "      <td>http://shakespeare.mit.edu/Poetry/sonnet.XXVI....</td>\n",
       "      <td>Sonnet XXVI\\nSonnet XXVI\\nLord of my love, to ...</td>\n",
       "      <td>The Sonnets</td>\n",
       "      <td>35</td>\n",
       "    </tr>\n",
       "    <tr>\n",
       "      <th>778</th>\n",
       "      <td>XXVII</td>\n",
       "      <td>Poetry</td>\n",
       "      <td>sonnetXXVII</td>\n",
       "      <td>XXVII. Weary with toil, I haste me to my bed,</td>\n",
       "      <td>http://shakespeare.mit.edu/Poetry/sonnet.XXVII...</td>\n",
       "      <td>Sonnet XXVII\\nSonnet XXVII\\nWeary with toil, I...</td>\n",
       "      <td>The Sonnets</td>\n",
       "      <td>35</td>\n",
       "    </tr>\n",
       "    <tr>\n",
       "      <th>779</th>\n",
       "      <td>XXVIII</td>\n",
       "      <td>Poetry</td>\n",
       "      <td>sonnetXXVIII</td>\n",
       "      <td>XXVIII. How can I then return in happy plight,</td>\n",
       "      <td>http://shakespeare.mit.edu/Poetry/sonnet.XXVII...</td>\n",
       "      <td>Sonnet XXVIII\\nSonnet XXVIII\\nHow can I then r...</td>\n",
       "      <td>The Sonnets</td>\n",
       "      <td>35</td>\n",
       "    </tr>\n",
       "    <tr>\n",
       "      <th>780</th>\n",
       "      <td>XXIX</td>\n",
       "      <td>Poetry</td>\n",
       "      <td>sonnetXXIX</td>\n",
       "      <td>XXIX. When, in disgrace with fortune and men's...</td>\n",
       "      <td>http://shakespeare.mit.edu/Poetry/sonnet.XXIX....</td>\n",
       "      <td>Sonnet XXIX\\nSonnet XXIX\\nWhen, in disgrace wi...</td>\n",
       "      <td>The Sonnets</td>\n",
       "      <td>35</td>\n",
       "    </tr>\n",
       "    <tr>\n",
       "      <th>781</th>\n",
       "      <td>XXX</td>\n",
       "      <td>Poetry</td>\n",
       "      <td>sonnetXXX</td>\n",
       "      <td>XXX. When to the sessions of sweet silent thought</td>\n",
       "      <td>http://shakespeare.mit.edu/Poetry/sonnet.XXX.html</td>\n",
       "      <td>Sonnet XXX\\nSonnet XXX\\nWhen to the sessions o...</td>\n",
       "      <td>The Sonnets</td>\n",
       "      <td>35</td>\n",
       "    </tr>\n",
       "    <tr>\n",
       "      <th>782</th>\n",
       "      <td>XXXI</td>\n",
       "      <td>Poetry</td>\n",
       "      <td>sonnetXXXI</td>\n",
       "      <td>XXXI. Thy bosom is endeared with all hearts,</td>\n",
       "      <td>http://shakespeare.mit.edu/Poetry/sonnet.XXXI....</td>\n",
       "      <td>Sonnet XXXI\\nSonnet XXXI\\nThy bosom is endeare...</td>\n",
       "      <td>The Sonnets</td>\n",
       "      <td>35</td>\n",
       "    </tr>\n",
       "    <tr>\n",
       "      <th>783</th>\n",
       "      <td>XXXII</td>\n",
       "      <td>Poetry</td>\n",
       "      <td>sonnetXXXII</td>\n",
       "      <td>XXXII. If thou survive my well-contented day,</td>\n",
       "      <td>http://shakespeare.mit.edu/Poetry/sonnet.XXXII...</td>\n",
       "      <td>Sonnet XXXII\\nSonnet XXXII\\nIf thou survive my...</td>\n",
       "      <td>The Sonnets</td>\n",
       "      <td>35</td>\n",
       "    </tr>\n",
       "    <tr>\n",
       "      <th>...</th>\n",
       "      <td>...</td>\n",
       "      <td>...</td>\n",
       "      <td>...</td>\n",
       "      <td>...</td>\n",
       "      <td>...</td>\n",
       "      <td>...</td>\n",
       "      <td>...</td>\n",
       "      <td>...</td>\n",
       "    </tr>\n",
       "    <tr>\n",
       "      <th>876</th>\n",
       "      <td>CXXV</td>\n",
       "      <td>Poetry</td>\n",
       "      <td>sonnetCXXV</td>\n",
       "      <td>CXXV. Were 't aught to me I bore the canopy,</td>\n",
       "      <td>http://shakespeare.mit.edu/Poetry/sonnet.CXXV....</td>\n",
       "      <td>Sonnet CXXV\\nSonnet CXXV\\nWere 't aught to me ...</td>\n",
       "      <td>The Sonnets</td>\n",
       "      <td>35</td>\n",
       "    </tr>\n",
       "    <tr>\n",
       "      <th>877</th>\n",
       "      <td>CXXVI</td>\n",
       "      <td>Poetry</td>\n",
       "      <td>sonnetCXXVI</td>\n",
       "      <td>CXXVI. O thou, my lovely boy, who in thy power</td>\n",
       "      <td>http://shakespeare.mit.edu/Poetry/sonnet.CXXVI...</td>\n",
       "      <td>Sonnet CXXVI\\nSonnet CXXVI\\nO thou, my lovely ...</td>\n",
       "      <td>The Sonnets</td>\n",
       "      <td>35</td>\n",
       "    </tr>\n",
       "    <tr>\n",
       "      <th>878</th>\n",
       "      <td>CXXVII</td>\n",
       "      <td>Poetry</td>\n",
       "      <td>sonnetCXXVII</td>\n",
       "      <td>CXXVII. In the old age black was not counted f...</td>\n",
       "      <td>http://shakespeare.mit.edu/Poetry/sonnet.CXXVI...</td>\n",
       "      <td>Sonnet CXXVII\\nSonnet CXXVII\\nIn the old age b...</td>\n",
       "      <td>The Sonnets</td>\n",
       "      <td>35</td>\n",
       "    </tr>\n",
       "    <tr>\n",
       "      <th>879</th>\n",
       "      <td>CXXVIII</td>\n",
       "      <td>Poetry</td>\n",
       "      <td>sonnetCXXVIII</td>\n",
       "      <td>CXXVIII. How oft, when thou, my music, music p...</td>\n",
       "      <td>http://shakespeare.mit.edu/Poetry/sonnet.CXXVI...</td>\n",
       "      <td>Sonnet CXXVIII\\nSonnet CXXVIII\\nHow oft, when ...</td>\n",
       "      <td>The Sonnets</td>\n",
       "      <td>35</td>\n",
       "    </tr>\n",
       "    <tr>\n",
       "      <th>880</th>\n",
       "      <td>CXXIX</td>\n",
       "      <td>Poetry</td>\n",
       "      <td>sonnetCXXIX</td>\n",
       "      <td>CXXIX. The expense of spirit in a waste of shame</td>\n",
       "      <td>http://shakespeare.mit.edu/Poetry/sonnet.CXXIX...</td>\n",
       "      <td>Sonnet CXXIX\\nSonnet CXXIX\\nThe expense of spi...</td>\n",
       "      <td>The Sonnets</td>\n",
       "      <td>35</td>\n",
       "    </tr>\n",
       "    <tr>\n",
       "      <th>881</th>\n",
       "      <td>CXXX</td>\n",
       "      <td>Poetry</td>\n",
       "      <td>sonnetCXXX</td>\n",
       "      <td>CXXX. My mistress' eyes are nothing like the sun;</td>\n",
       "      <td>http://shakespeare.mit.edu/Poetry/sonnet.CXXX....</td>\n",
       "      <td>Sonnet CXXX\\nSonnet CXXX\\nMy mistress' eyes ar...</td>\n",
       "      <td>The Sonnets</td>\n",
       "      <td>35</td>\n",
       "    </tr>\n",
       "    <tr>\n",
       "      <th>882</th>\n",
       "      <td>CXXXI</td>\n",
       "      <td>Poetry</td>\n",
       "      <td>sonnetCXXXI</td>\n",
       "      <td>CXXXI. Thou art as tyrannous, so as thou art,</td>\n",
       "      <td>http://shakespeare.mit.edu/Poetry/sonnet.CXXXI...</td>\n",
       "      <td>Sonnet CXXXI\\nSonnet CXXXI\\nThou art as tyrann...</td>\n",
       "      <td>The Sonnets</td>\n",
       "      <td>35</td>\n",
       "    </tr>\n",
       "    <tr>\n",
       "      <th>883</th>\n",
       "      <td>CXXXII</td>\n",
       "      <td>Poetry</td>\n",
       "      <td>sonnetCXXXII</td>\n",
       "      <td>CXXXII. Thine eyes I love, and they, as pityin...</td>\n",
       "      <td>http://shakespeare.mit.edu/Poetry/sonnet.CXXXI...</td>\n",
       "      <td>Sonnet CXXXII\\nSonnet CXXXII\\nThine eyes I lov...</td>\n",
       "      <td>The Sonnets</td>\n",
       "      <td>35</td>\n",
       "    </tr>\n",
       "    <tr>\n",
       "      <th>884</th>\n",
       "      <td>CXXXIII</td>\n",
       "      <td>Poetry</td>\n",
       "      <td>sonnetCXXXIII</td>\n",
       "      <td>CXXXIII. Beshrew that heart that makes my hear...</td>\n",
       "      <td>http://shakespeare.mit.edu/Poetry/sonnet.CXXXI...</td>\n",
       "      <td>Sonnet CXXXIII\\nSonnet CXXXIII\\nBeshrew that h...</td>\n",
       "      <td>The Sonnets</td>\n",
       "      <td>35</td>\n",
       "    </tr>\n",
       "    <tr>\n",
       "      <th>885</th>\n",
       "      <td>CXXXIV</td>\n",
       "      <td>Poetry</td>\n",
       "      <td>sonnetCXXXIV</td>\n",
       "      <td>CXXXIV. So, now I have confess'd that he is th...</td>\n",
       "      <td>http://shakespeare.mit.edu/Poetry/sonnet.CXXXI...</td>\n",
       "      <td>Sonnet CXXXIV\\nSonnet CXXXIV\\nSo, now I have c...</td>\n",
       "      <td>The Sonnets</td>\n",
       "      <td>35</td>\n",
       "    </tr>\n",
       "    <tr>\n",
       "      <th>886</th>\n",
       "      <td>CXXXV</td>\n",
       "      <td>Poetry</td>\n",
       "      <td>sonnetCXXXV</td>\n",
       "      <td>CXXXV. Whoever hath her wish, thou hast thy 'W...</td>\n",
       "      <td>http://shakespeare.mit.edu/Poetry/sonnet.CXXXV...</td>\n",
       "      <td>Sonnet CXXXV\\nSonnet CXXXV\\nWhoever hath her w...</td>\n",
       "      <td>The Sonnets</td>\n",
       "      <td>35</td>\n",
       "    </tr>\n",
       "    <tr>\n",
       "      <th>887</th>\n",
       "      <td>CXXXVI</td>\n",
       "      <td>Poetry</td>\n",
       "      <td>sonnetCXXXVI</td>\n",
       "      <td>CXXXVI. If thy soul cheque thee that I come so...</td>\n",
       "      <td>http://shakespeare.mit.edu/Poetry/sonnet.CXXXV...</td>\n",
       "      <td>Sonnet CXXXVI\\nSonnet CXXXVI\\nIf thy soul cheq...</td>\n",
       "      <td>The Sonnets</td>\n",
       "      <td>35</td>\n",
       "    </tr>\n",
       "    <tr>\n",
       "      <th>888</th>\n",
       "      <td>CXXXVII</td>\n",
       "      <td>Poetry</td>\n",
       "      <td>sonnetCXXXVII</td>\n",
       "      <td>CXXXVII. Thou blind fool, Love, what dost thou...</td>\n",
       "      <td>http://shakespeare.mit.edu/Poetry/sonnet.CXXXV...</td>\n",
       "      <td>Sonnet CXXXVII\\nSonnet CXXXVII\\nThou blind foo...</td>\n",
       "      <td>The Sonnets</td>\n",
       "      <td>35</td>\n",
       "    </tr>\n",
       "    <tr>\n",
       "      <th>889</th>\n",
       "      <td>CXXXVIII</td>\n",
       "      <td>Poetry</td>\n",
       "      <td>sonnetCXXXVIII</td>\n",
       "      <td>CXXXVIII. When my love swears that she is made...</td>\n",
       "      <td>http://shakespeare.mit.edu/Poetry/sonnet.CXXXV...</td>\n",
       "      <td>Sonnet CXXXVIII\\nSonnet CXXXVIII\\nWhen my love...</td>\n",
       "      <td>The Sonnets</td>\n",
       "      <td>35</td>\n",
       "    </tr>\n",
       "    <tr>\n",
       "      <th>890</th>\n",
       "      <td>CXXXIX</td>\n",
       "      <td>Poetry</td>\n",
       "      <td>sonnetCXXXIX</td>\n",
       "      <td>CXXXIX. O, call not me to justify the wrong</td>\n",
       "      <td>http://shakespeare.mit.edu/Poetry/sonnet.CXXXI...</td>\n",
       "      <td>Sonnet CXXXIX\\nSonnet CXXXIX\\nO, call not me t...</td>\n",
       "      <td>The Sonnets</td>\n",
       "      <td>35</td>\n",
       "    </tr>\n",
       "    <tr>\n",
       "      <th>891</th>\n",
       "      <td>CXL</td>\n",
       "      <td>Poetry</td>\n",
       "      <td>sonnetCXL</td>\n",
       "      <td>CXL. Be wise as thou art cruel; do not press</td>\n",
       "      <td>http://shakespeare.mit.edu/Poetry/sonnet.CXL.html</td>\n",
       "      <td>Sonnet CXL\\nSonnet CXL\\nBe wise as thou art cr...</td>\n",
       "      <td>The Sonnets</td>\n",
       "      <td>35</td>\n",
       "    </tr>\n",
       "    <tr>\n",
       "      <th>892</th>\n",
       "      <td>CXLI</td>\n",
       "      <td>Poetry</td>\n",
       "      <td>sonnetCXLI</td>\n",
       "      <td>CXLI. In faith, I do not love thee with mine e...</td>\n",
       "      <td>http://shakespeare.mit.edu/Poetry/sonnet.CXLI....</td>\n",
       "      <td>Sonnet CXLI\\nSonnet CXLI\\nIn faith, I do not l...</td>\n",
       "      <td>The Sonnets</td>\n",
       "      <td>35</td>\n",
       "    </tr>\n",
       "    <tr>\n",
       "      <th>893</th>\n",
       "      <td>CXLII</td>\n",
       "      <td>Poetry</td>\n",
       "      <td>sonnetCXLII</td>\n",
       "      <td>CXLII. Love is my sin and thy dear virtue hate,</td>\n",
       "      <td>http://shakespeare.mit.edu/Poetry/sonnet.CXLII...</td>\n",
       "      <td>Sonnet CXLII\\nSonnet CXLII\\nLove is my sin and...</td>\n",
       "      <td>The Sonnets</td>\n",
       "      <td>35</td>\n",
       "    </tr>\n",
       "    <tr>\n",
       "      <th>894</th>\n",
       "      <td>CXLIII</td>\n",
       "      <td>Poetry</td>\n",
       "      <td>sonnetCXLIII</td>\n",
       "      <td>CXLIII. Lo! as a careful housewife runs to catch</td>\n",
       "      <td>http://shakespeare.mit.edu/Poetry/sonnet.CXLII...</td>\n",
       "      <td>Sonnet CXLIII\\nSonnet CXLIII\\nLo! as a careful...</td>\n",
       "      <td>The Sonnets</td>\n",
       "      <td>35</td>\n",
       "    </tr>\n",
       "    <tr>\n",
       "      <th>895</th>\n",
       "      <td>CXLIV</td>\n",
       "      <td>Poetry</td>\n",
       "      <td>sonnetCXLIV</td>\n",
       "      <td>CXLIV. Two loves I have of comfort and despair,</td>\n",
       "      <td>http://shakespeare.mit.edu/Poetry/sonnet.CXLIV...</td>\n",
       "      <td>Sonnet CXLIV\\nSonnet CXLIV\\nTwo loves I have o...</td>\n",
       "      <td>The Sonnets</td>\n",
       "      <td>35</td>\n",
       "    </tr>\n",
       "    <tr>\n",
       "      <th>896</th>\n",
       "      <td>CXLV</td>\n",
       "      <td>Poetry</td>\n",
       "      <td>sonnetCXLV</td>\n",
       "      <td>CXLV. Those lips that Love's own hand did make</td>\n",
       "      <td>http://shakespeare.mit.edu/Poetry/sonnet.CXLV....</td>\n",
       "      <td>Sonnet CXLV\\nSonnet CXLV\\nThose lips that Love...</td>\n",
       "      <td>The Sonnets</td>\n",
       "      <td>35</td>\n",
       "    </tr>\n",
       "    <tr>\n",
       "      <th>897</th>\n",
       "      <td>CXLVI</td>\n",
       "      <td>Poetry</td>\n",
       "      <td>sonnetCXLVI</td>\n",
       "      <td>CXLVI. Poor soul, the centre of my sinful earth,</td>\n",
       "      <td>http://shakespeare.mit.edu/Poetry/sonnet.CXLVI...</td>\n",
       "      <td>Sonnet CXLVI\\nSonnet CXLVI\\nPoor soul, the cen...</td>\n",
       "      <td>The Sonnets</td>\n",
       "      <td>35</td>\n",
       "    </tr>\n",
       "    <tr>\n",
       "      <th>898</th>\n",
       "      <td>CXLVII</td>\n",
       "      <td>Poetry</td>\n",
       "      <td>sonnetCXLVII</td>\n",
       "      <td>CXLVII. My love is as a fever, longing still</td>\n",
       "      <td>http://shakespeare.mit.edu/Poetry/sonnet.CXLVI...</td>\n",
       "      <td>Sonnet CXLVII\\nSonnet CXLVII\\nMy love is as a ...</td>\n",
       "      <td>The Sonnets</td>\n",
       "      <td>35</td>\n",
       "    </tr>\n",
       "    <tr>\n",
       "      <th>899</th>\n",
       "      <td>CXLVIII</td>\n",
       "      <td>Poetry</td>\n",
       "      <td>sonnetCXLVIII</td>\n",
       "      <td>CXLVIII. O me, what eyes hath Love put in my h...</td>\n",
       "      <td>http://shakespeare.mit.edu/Poetry/sonnet.CXLVI...</td>\n",
       "      <td>Sonnet CXLVIII\\nSonnet CXLVIII\\nO me, what eye...</td>\n",
       "      <td>The Sonnets</td>\n",
       "      <td>35</td>\n",
       "    </tr>\n",
       "    <tr>\n",
       "      <th>900</th>\n",
       "      <td>CXLIX</td>\n",
       "      <td>Poetry</td>\n",
       "      <td>sonnetCXLIX</td>\n",
       "      <td>CXLIX. Canst thou, O cruel! say I love thee not,</td>\n",
       "      <td>http://shakespeare.mit.edu/Poetry/sonnet.CXLIX...</td>\n",
       "      <td>Sonnet CXLIX\\nSonnet CXLIX\\nCanst thou, O crue...</td>\n",
       "      <td>The Sonnets</td>\n",
       "      <td>35</td>\n",
       "    </tr>\n",
       "    <tr>\n",
       "      <th>901</th>\n",
       "      <td>CL</td>\n",
       "      <td>Poetry</td>\n",
       "      <td>sonnetCL</td>\n",
       "      <td>CL. O, from what power hast thou this powerful...</td>\n",
       "      <td>http://shakespeare.mit.edu/Poetry/sonnet.CL.html</td>\n",
       "      <td>Sonnet CL\\nSonnet CL\\nO, from what power hast ...</td>\n",
       "      <td>The Sonnets</td>\n",
       "      <td>35</td>\n",
       "    </tr>\n",
       "    <tr>\n",
       "      <th>902</th>\n",
       "      <td>CLI</td>\n",
       "      <td>Poetry</td>\n",
       "      <td>sonnetCLI</td>\n",
       "      <td>CLI. Love is too young to know what conscience...</td>\n",
       "      <td>http://shakespeare.mit.edu/Poetry/sonnet.CLI.html</td>\n",
       "      <td>Sonnet CLI\\nSonnet CLI\\nLove is too young to k...</td>\n",
       "      <td>The Sonnets</td>\n",
       "      <td>35</td>\n",
       "    </tr>\n",
       "    <tr>\n",
       "      <th>903</th>\n",
       "      <td>CLII</td>\n",
       "      <td>Poetry</td>\n",
       "      <td>sonnetCLII</td>\n",
       "      <td>CLII. In loving thee thou know'st I am forsworn,</td>\n",
       "      <td>http://shakespeare.mit.edu/Poetry/sonnet.CLII....</td>\n",
       "      <td>Sonnet CLII\\nSonnet CLII\\nIn loving thee thou ...</td>\n",
       "      <td>The Sonnets</td>\n",
       "      <td>35</td>\n",
       "    </tr>\n",
       "    <tr>\n",
       "      <th>904</th>\n",
       "      <td>CLIII</td>\n",
       "      <td>Poetry</td>\n",
       "      <td>sonnetCLIII</td>\n",
       "      <td>CLIII. Cupid laid by his brand, and fell asleep:</td>\n",
       "      <td>http://shakespeare.mit.edu/Poetry/sonnet.CLIII...</td>\n",
       "      <td>Sonnet CLIII\\nSonnet CLIII\\nCupid laid by his ...</td>\n",
       "      <td>The Sonnets</td>\n",
       "      <td>35</td>\n",
       "    </tr>\n",
       "    <tr>\n",
       "      <th>905</th>\n",
       "      <td>CLIV</td>\n",
       "      <td>Poetry</td>\n",
       "      <td>sonnetCLIV</td>\n",
       "      <td>CLIV. The little Love-god lying once asleep</td>\n",
       "      <td>http://shakespeare.mit.edu/Poetry/sonnet.CLIV....</td>\n",
       "      <td>Sonnet CLIV\\nSonnet CLIV\\nThe little Love-god ...</td>\n",
       "      <td>The Sonnets</td>\n",
       "      <td>35</td>\n",
       "    </tr>\n",
       "  </tbody>\n",
       "</table>\n",
       "<p>152 rows × 8 columns</p>\n",
       "</div>"
      ],
      "text/plain": [
       "          act literature_type           scene  \\\n",
       "754       III          Poetry       sonnetIII   \n",
       "755        IV          Poetry        sonnetIV   \n",
       "756         V          Poetry         sonnetV   \n",
       "757        VI          Poetry        sonnetVI   \n",
       "758       VII          Poetry       sonnetVII   \n",
       "759      VIII          Poetry      sonnetVIII   \n",
       "760        IX          Poetry        sonnetIX   \n",
       "761         X          Poetry         sonnetX   \n",
       "762        XI          Poetry        sonnetXI   \n",
       "763       XII          Poetry       sonnetXII   \n",
       "764      XIII          Poetry      sonnetXIII   \n",
       "765       XIV          Poetry       sonnetXIV   \n",
       "766        XV          Poetry        sonnetXV   \n",
       "767       XVI          Poetry       sonnetXVI   \n",
       "768      XVII          Poetry      sonnetXVII   \n",
       "769     XVIII          Poetry     sonnetXVIII   \n",
       "770       XIX          Poetry       sonnetXIX   \n",
       "771        XX          Poetry        sonnetXX   \n",
       "772       XXI          Poetry       sonnetXXI   \n",
       "773      XXII          Poetry      sonnetXXII   \n",
       "774     XXIII          Poetry     sonnetXXIII   \n",
       "775      XXIV          Poetry      sonnetXXIV   \n",
       "776       XXV          Poetry       sonnetXXV   \n",
       "777      XXVI          Poetry      sonnetXXVI   \n",
       "778     XXVII          Poetry     sonnetXXVII   \n",
       "779    XXVIII          Poetry    sonnetXXVIII   \n",
       "780      XXIX          Poetry      sonnetXXIX   \n",
       "781       XXX          Poetry       sonnetXXX   \n",
       "782      XXXI          Poetry      sonnetXXXI   \n",
       "783     XXXII          Poetry     sonnetXXXII   \n",
       "..        ...             ...             ...   \n",
       "876      CXXV          Poetry      sonnetCXXV   \n",
       "877     CXXVI          Poetry     sonnetCXXVI   \n",
       "878    CXXVII          Poetry    sonnetCXXVII   \n",
       "879   CXXVIII          Poetry   sonnetCXXVIII   \n",
       "880     CXXIX          Poetry     sonnetCXXIX   \n",
       "881      CXXX          Poetry      sonnetCXXX   \n",
       "882     CXXXI          Poetry     sonnetCXXXI   \n",
       "883    CXXXII          Poetry    sonnetCXXXII   \n",
       "884   CXXXIII          Poetry   sonnetCXXXIII   \n",
       "885    CXXXIV          Poetry    sonnetCXXXIV   \n",
       "886     CXXXV          Poetry     sonnetCXXXV   \n",
       "887    CXXXVI          Poetry    sonnetCXXXVI   \n",
       "888   CXXXVII          Poetry   sonnetCXXXVII   \n",
       "889  CXXXVIII          Poetry  sonnetCXXXVIII   \n",
       "890    CXXXIX          Poetry    sonnetCXXXIX   \n",
       "891       CXL          Poetry       sonnetCXL   \n",
       "892      CXLI          Poetry      sonnetCXLI   \n",
       "893     CXLII          Poetry     sonnetCXLII   \n",
       "894    CXLIII          Poetry    sonnetCXLIII   \n",
       "895     CXLIV          Poetry     sonnetCXLIV   \n",
       "896      CXLV          Poetry      sonnetCXLV   \n",
       "897     CXLVI          Poetry     sonnetCXLVI   \n",
       "898    CXLVII          Poetry    sonnetCXLVII   \n",
       "899   CXLVIII          Poetry   sonnetCXLVIII   \n",
       "900     CXLIX          Poetry     sonnetCXLIX   \n",
       "901        CL          Poetry        sonnetCL   \n",
       "902       CLI          Poetry       sonnetCLI   \n",
       "903      CLII          Poetry      sonnetCLII   \n",
       "904     CLIII          Poetry     sonnetCLIII   \n",
       "905      CLIV          Poetry      sonnetCLIV   \n",
       "\n",
       "                                           scene_title  \\\n",
       "754  III. Look in thy glass, and tell the face thou...   \n",
       "755      IV. Unthrifty loveliness, why dost thou spend   \n",
       "756    V. Those hours, that with gentle work did frame   \n",
       "757       VI. Then let not winter's ragged hand deface   \n",
       "758     VII. Lo! in the orient when the gracious light   \n",
       "759  VIII. Music to hear, why hear'st thou music sa...   \n",
       "760            IX. Is it for fear to wet a widow's eye   \n",
       "761  X. For shame! deny that thou bear'st love to any,   \n",
       "762  XI. As fast as thou shalt wane, so fast thou g...   \n",
       "763  XII. When I do count the clock that tells the ...   \n",
       "764  XIII. O, that you were yourself! but, love, yo...   \n",
       "765    XIV. Not from the stars do I my judgment pluck;   \n",
       "766         XV. When I consider every thing that grows   \n",
       "767       XVI. But wherefore do not you a mightier way   \n",
       "768   XVII. Who will believe my verse in time to come,   \n",
       "769     XVIII. Shall I compare thee to a summer's day?   \n",
       "770   XIX. Devouring Time, blunt thou the lion's paws,   \n",
       "771  XX. A woman's face with Nature's own hand painted   \n",
       "772        XXI. So is it not with me as with that Muse   \n",
       "773     XXII. My glass shall not persuade me I am old,   \n",
       "774          XXIII. As an unperfect actor on the stage   \n",
       "775  XXIV. Mine eye hath play'd the painter and hat...   \n",
       "776  XXV. Let those who are in favour with their stars   \n",
       "777        XXVI. Lord of my love, to whom in vassalage   \n",
       "778      XXVII. Weary with toil, I haste me to my bed,   \n",
       "779     XXVIII. How can I then return in happy plight,   \n",
       "780  XXIX. When, in disgrace with fortune and men's...   \n",
       "781  XXX. When to the sessions of sweet silent thought   \n",
       "782       XXXI. Thy bosom is endeared with all hearts,   \n",
       "783      XXXII. If thou survive my well-contented day,   \n",
       "..                                                 ...   \n",
       "876       CXXV. Were 't aught to me I bore the canopy,   \n",
       "877     CXXVI. O thou, my lovely boy, who in thy power   \n",
       "878  CXXVII. In the old age black was not counted f...   \n",
       "879  CXXVIII. How oft, when thou, my music, music p...   \n",
       "880   CXXIX. The expense of spirit in a waste of shame   \n",
       "881  CXXX. My mistress' eyes are nothing like the sun;   \n",
       "882      CXXXI. Thou art as tyrannous, so as thou art,   \n",
       "883  CXXXII. Thine eyes I love, and they, as pityin...   \n",
       "884  CXXXIII. Beshrew that heart that makes my hear...   \n",
       "885  CXXXIV. So, now I have confess'd that he is th...   \n",
       "886  CXXXV. Whoever hath her wish, thou hast thy 'W...   \n",
       "887  CXXXVI. If thy soul cheque thee that I come so...   \n",
       "888  CXXXVII. Thou blind fool, Love, what dost thou...   \n",
       "889  CXXXVIII. When my love swears that she is made...   \n",
       "890        CXXXIX. O, call not me to justify the wrong   \n",
       "891       CXL. Be wise as thou art cruel; do not press   \n",
       "892  CXLI. In faith, I do not love thee with mine e...   \n",
       "893    CXLII. Love is my sin and thy dear virtue hate,   \n",
       "894   CXLIII. Lo! as a careful housewife runs to catch   \n",
       "895    CXLIV. Two loves I have of comfort and despair,   \n",
       "896     CXLV. Those lips that Love's own hand did make   \n",
       "897   CXLVI. Poor soul, the centre of my sinful earth,   \n",
       "898       CXLVII. My love is as a fever, longing still   \n",
       "899  CXLVIII. O me, what eyes hath Love put in my h...   \n",
       "900   CXLIX. Canst thou, O cruel! say I love thee not,   \n",
       "901  CL. O, from what power hast thou this powerful...   \n",
       "902  CLI. Love is too young to know what conscience...   \n",
       "903   CLII. In loving thee thou know'st I am forsworn,   \n",
       "904   CLIII. Cupid laid by his brand, and fell asleep:   \n",
       "905        CLIV. The little Love-god lying once asleep   \n",
       "\n",
       "                                             scene_url  \\\n",
       "754  http://shakespeare.mit.edu/Poetry/sonnet.III.html   \n",
       "755   http://shakespeare.mit.edu/Poetry/sonnet.IV.html   \n",
       "756    http://shakespeare.mit.edu/Poetry/sonnet.V.html   \n",
       "757   http://shakespeare.mit.edu/Poetry/sonnet.VI.html   \n",
       "758  http://shakespeare.mit.edu/Poetry/sonnet.VII.html   \n",
       "759  http://shakespeare.mit.edu/Poetry/sonnet.VIII....   \n",
       "760   http://shakespeare.mit.edu/Poetry/sonnet.IX.html   \n",
       "761    http://shakespeare.mit.edu/Poetry/sonnet.X.html   \n",
       "762   http://shakespeare.mit.edu/Poetry/sonnet.XI.html   \n",
       "763  http://shakespeare.mit.edu/Poetry/sonnet.XII.html   \n",
       "764  http://shakespeare.mit.edu/Poetry/sonnet.XIII....   \n",
       "765  http://shakespeare.mit.edu/Poetry/sonnet.XIV.html   \n",
       "766   http://shakespeare.mit.edu/Poetry/sonnet.XV.html   \n",
       "767  http://shakespeare.mit.edu/Poetry/sonnet.XVI.html   \n",
       "768  http://shakespeare.mit.edu/Poetry/sonnet.XVII....   \n",
       "769  http://shakespeare.mit.edu/Poetry/sonnet.XVIII...   \n",
       "770  http://shakespeare.mit.edu/Poetry/sonnet.XIX.html   \n",
       "771   http://shakespeare.mit.edu/Poetry/sonnet.XX.html   \n",
       "772  http://shakespeare.mit.edu/Poetry/sonnet.XXI.html   \n",
       "773  http://shakespeare.mit.edu/Poetry/sonnet.XXII....   \n",
       "774  http://shakespeare.mit.edu/Poetry/sonnet.XXIII...   \n",
       "775  http://shakespeare.mit.edu/Poetry/sonnet.XXIV....   \n",
       "776  http://shakespeare.mit.edu/Poetry/sonnet.XXV.html   \n",
       "777  http://shakespeare.mit.edu/Poetry/sonnet.XXVI....   \n",
       "778  http://shakespeare.mit.edu/Poetry/sonnet.XXVII...   \n",
       "779  http://shakespeare.mit.edu/Poetry/sonnet.XXVII...   \n",
       "780  http://shakespeare.mit.edu/Poetry/sonnet.XXIX....   \n",
       "781  http://shakespeare.mit.edu/Poetry/sonnet.XXX.html   \n",
       "782  http://shakespeare.mit.edu/Poetry/sonnet.XXXI....   \n",
       "783  http://shakespeare.mit.edu/Poetry/sonnet.XXXII...   \n",
       "..                                                 ...   \n",
       "876  http://shakespeare.mit.edu/Poetry/sonnet.CXXV....   \n",
       "877  http://shakespeare.mit.edu/Poetry/sonnet.CXXVI...   \n",
       "878  http://shakespeare.mit.edu/Poetry/sonnet.CXXVI...   \n",
       "879  http://shakespeare.mit.edu/Poetry/sonnet.CXXVI...   \n",
       "880  http://shakespeare.mit.edu/Poetry/sonnet.CXXIX...   \n",
       "881  http://shakespeare.mit.edu/Poetry/sonnet.CXXX....   \n",
       "882  http://shakespeare.mit.edu/Poetry/sonnet.CXXXI...   \n",
       "883  http://shakespeare.mit.edu/Poetry/sonnet.CXXXI...   \n",
       "884  http://shakespeare.mit.edu/Poetry/sonnet.CXXXI...   \n",
       "885  http://shakespeare.mit.edu/Poetry/sonnet.CXXXI...   \n",
       "886  http://shakespeare.mit.edu/Poetry/sonnet.CXXXV...   \n",
       "887  http://shakespeare.mit.edu/Poetry/sonnet.CXXXV...   \n",
       "888  http://shakespeare.mit.edu/Poetry/sonnet.CXXXV...   \n",
       "889  http://shakespeare.mit.edu/Poetry/sonnet.CXXXV...   \n",
       "890  http://shakespeare.mit.edu/Poetry/sonnet.CXXXI...   \n",
       "891  http://shakespeare.mit.edu/Poetry/sonnet.CXL.html   \n",
       "892  http://shakespeare.mit.edu/Poetry/sonnet.CXLI....   \n",
       "893  http://shakespeare.mit.edu/Poetry/sonnet.CXLII...   \n",
       "894  http://shakespeare.mit.edu/Poetry/sonnet.CXLII...   \n",
       "895  http://shakespeare.mit.edu/Poetry/sonnet.CXLIV...   \n",
       "896  http://shakespeare.mit.edu/Poetry/sonnet.CXLV....   \n",
       "897  http://shakespeare.mit.edu/Poetry/sonnet.CXLVI...   \n",
       "898  http://shakespeare.mit.edu/Poetry/sonnet.CXLVI...   \n",
       "899  http://shakespeare.mit.edu/Poetry/sonnet.CXLVI...   \n",
       "900  http://shakespeare.mit.edu/Poetry/sonnet.CXLIX...   \n",
       "901   http://shakespeare.mit.edu/Poetry/sonnet.CL.html   \n",
       "902  http://shakespeare.mit.edu/Poetry/sonnet.CLI.html   \n",
       "903  http://shakespeare.mit.edu/Poetry/sonnet.CLII....   \n",
       "904  http://shakespeare.mit.edu/Poetry/sonnet.CLIII...   \n",
       "905  http://shakespeare.mit.edu/Poetry/sonnet.CLIV....   \n",
       "\n",
       "                                                  text        title  Date  \n",
       "754  Sonnet III\\nSonnet III\\nLook in thy glass, and...  The Sonnets    35  \n",
       "755  Sonnet IV\\nSonnet IV\\nUnthrifty loveliness, wh...  The Sonnets    35  \n",
       "756  Sonnet V\\nSonnet V\\nThose hours, that with gen...  The Sonnets    35  \n",
       "757  Sonnet VI\\nSonnet VI\\nThen let not winter's ra...  The Sonnets    35  \n",
       "758  Sonnet VII\\nSonnet VII\\nLo! in the orient when...  The Sonnets    35  \n",
       "759  Sonnet VIII\\nSonnet VIII\\nMusic to hear, why h...  The Sonnets    35  \n",
       "760  Sonnet IX\\nSonnet IX\\nIs it for fear to wet a ...  The Sonnets    35  \n",
       "761  Sonnet X\\nSonnet X\\nFor shame! deny that thou ...  The Sonnets    35  \n",
       "762  Sonnet XI\\nSonnet XI\\nAs fast as thou shalt wa...  The Sonnets    35  \n",
       "763  Sonnet XII\\nSonnet XII\\nWhen I do count the cl...  The Sonnets    35  \n",
       "764  Sonnet XIII\\nSonnet XIII\\nO, that you were you...  The Sonnets    35  \n",
       "765  Sonnet XIV\\nSonnet XIV\\nNot from the stars do ...  The Sonnets    35  \n",
       "766  Sonnet XV\\nSonnet XV\\nWhen I consider every th...  The Sonnets    35  \n",
       "767  Sonnet XVI\\nSonnet XVI\\nBut wherefore do not y...  The Sonnets    35  \n",
       "768  Sonnet XVII\\nSonnet XVII\\nWho will believe my ...  The Sonnets    35  \n",
       "769  Sonnet XVIII\\nSonnet XVIII\\nShall I compare th...  The Sonnets    35  \n",
       "770  Sonnet XIX\\nSonnet XIX\\nDevouring Time, blunt ...  The Sonnets    35  \n",
       "771  Sonnet XX\\nSonnet XX\\nA woman's face with Natu...  The Sonnets    35  \n",
       "772  Sonnet XXI\\nSonnet XXI\\nSo is it not with me a...  The Sonnets    35  \n",
       "773  Sonnet XXII\\nSonnet XXII\\nMy glass shall not p...  The Sonnets    35  \n",
       "774  Sonnet XXIII\\nSonnet XXIII\\nAs an unperfect ac...  The Sonnets    35  \n",
       "775  Sonnet XXIV\\nSonnet XXIV\\nMine eye hath play'd...  The Sonnets    35  \n",
       "776  Sonnet XXV\\nSonnet XXV\\nLet those who are in f...  The Sonnets    35  \n",
       "777  Sonnet XXVI\\nSonnet XXVI\\nLord of my love, to ...  The Sonnets    35  \n",
       "778  Sonnet XXVII\\nSonnet XXVII\\nWeary with toil, I...  The Sonnets    35  \n",
       "779  Sonnet XXVIII\\nSonnet XXVIII\\nHow can I then r...  The Sonnets    35  \n",
       "780  Sonnet XXIX\\nSonnet XXIX\\nWhen, in disgrace wi...  The Sonnets    35  \n",
       "781  Sonnet XXX\\nSonnet XXX\\nWhen to the sessions o...  The Sonnets    35  \n",
       "782  Sonnet XXXI\\nSonnet XXXI\\nThy bosom is endeare...  The Sonnets    35  \n",
       "783  Sonnet XXXII\\nSonnet XXXII\\nIf thou survive my...  The Sonnets    35  \n",
       "..                                                 ...          ...   ...  \n",
       "876  Sonnet CXXV\\nSonnet CXXV\\nWere 't aught to me ...  The Sonnets    35  \n",
       "877  Sonnet CXXVI\\nSonnet CXXVI\\nO thou, my lovely ...  The Sonnets    35  \n",
       "878  Sonnet CXXVII\\nSonnet CXXVII\\nIn the old age b...  The Sonnets    35  \n",
       "879  Sonnet CXXVIII\\nSonnet CXXVIII\\nHow oft, when ...  The Sonnets    35  \n",
       "880  Sonnet CXXIX\\nSonnet CXXIX\\nThe expense of spi...  The Sonnets    35  \n",
       "881  Sonnet CXXX\\nSonnet CXXX\\nMy mistress' eyes ar...  The Sonnets    35  \n",
       "882  Sonnet CXXXI\\nSonnet CXXXI\\nThou art as tyrann...  The Sonnets    35  \n",
       "883  Sonnet CXXXII\\nSonnet CXXXII\\nThine eyes I lov...  The Sonnets    35  \n",
       "884  Sonnet CXXXIII\\nSonnet CXXXIII\\nBeshrew that h...  The Sonnets    35  \n",
       "885  Sonnet CXXXIV\\nSonnet CXXXIV\\nSo, now I have c...  The Sonnets    35  \n",
       "886  Sonnet CXXXV\\nSonnet CXXXV\\nWhoever hath her w...  The Sonnets    35  \n",
       "887  Sonnet CXXXVI\\nSonnet CXXXVI\\nIf thy soul cheq...  The Sonnets    35  \n",
       "888  Sonnet CXXXVII\\nSonnet CXXXVII\\nThou blind foo...  The Sonnets    35  \n",
       "889  Sonnet CXXXVIII\\nSonnet CXXXVIII\\nWhen my love...  The Sonnets    35  \n",
       "890  Sonnet CXXXIX\\nSonnet CXXXIX\\nO, call not me t...  The Sonnets    35  \n",
       "891  Sonnet CXL\\nSonnet CXL\\nBe wise as thou art cr...  The Sonnets    35  \n",
       "892  Sonnet CXLI\\nSonnet CXLI\\nIn faith, I do not l...  The Sonnets    35  \n",
       "893  Sonnet CXLII\\nSonnet CXLII\\nLove is my sin and...  The Sonnets    35  \n",
       "894  Sonnet CXLIII\\nSonnet CXLIII\\nLo! as a careful...  The Sonnets    35  \n",
       "895  Sonnet CXLIV\\nSonnet CXLIV\\nTwo loves I have o...  The Sonnets    35  \n",
       "896  Sonnet CXLV\\nSonnet CXLV\\nThose lips that Love...  The Sonnets    35  \n",
       "897  Sonnet CXLVI\\nSonnet CXLVI\\nPoor soul, the cen...  The Sonnets    35  \n",
       "898  Sonnet CXLVII\\nSonnet CXLVII\\nMy love is as a ...  The Sonnets    35  \n",
       "899  Sonnet CXLVIII\\nSonnet CXLVIII\\nO me, what eye...  The Sonnets    35  \n",
       "900  Sonnet CXLIX\\nSonnet CXLIX\\nCanst thou, O crue...  The Sonnets    35  \n",
       "901  Sonnet CL\\nSonnet CL\\nO, from what power hast ...  The Sonnets    35  \n",
       "902  Sonnet CLI\\nSonnet CLI\\nLove is too young to k...  The Sonnets    35  \n",
       "903  Sonnet CLII\\nSonnet CLII\\nIn loving thee thou ...  The Sonnets    35  \n",
       "904  Sonnet CLIII\\nSonnet CLIII\\nCupid laid by his ...  The Sonnets    35  \n",
       "905  Sonnet CLIV\\nSonnet CLIV\\nThe little Love-god ...  The Sonnets    35  \n",
       "\n",
       "[152 rows x 8 columns]"
      ]
     },
     "execution_count": 22,
     "metadata": {},
     "output_type": "execute_result"
    }
   ],
   "source": [
    "play_scene_list1[play_scene_list1['Date']==35]"
   ]
  },
  {
   "cell_type": "markdown",
   "metadata": {},
   "source": [
    "### Now we will try adding some features to the data and see if they are changing over time, so track polarity and other new feaatures toghether over time"
   ]
  },
  {
   "cell_type": "code",
   "execution_count": 23,
   "metadata": {
    "collapsed": true
   },
   "outputs": [],
   "source": [
    "## Number of words in the text ##\n",
    "play_scene_list1[\"num_words\"] = play_scene_list1[\"text\"].apply(lambda x: len(str(x).split()))\n",
    "\n",
    "## Number of unique words in the text ##\n",
    "play_scene_list1[\"num_unique_words\"] = play_scene_list1[\"text\"].apply(lambda x: len(set(str(x).split())))\n",
    "\n",
    "## Number of characters in the text ##\n",
    "play_scene_list1[\"num_chars\"] = play_scene_list1[\"text\"].apply(lambda x: len(str(x)))\n",
    "\n",
    "## Number of stopwords in the text ##\n",
    "eng_stopwords = nltk.corpus.stopwords.words('english')\n",
    "play_scene_list1[\"num_stopwords\"] = play_scene_list1[\"text\"].apply(lambda x: len([w for w in str(x).lower().split() if w in eng_stopwords]))\n",
    "\n",
    "## Number of punctuations in the text ##\n",
    "play_scene_list1[\"num_punctuations\"] =play_scene_list1['text'].apply(lambda x: len([c for c in str(x) if c in string.punctuation]) )\n",
    "\n",
    "## Number of upper case words in the text ##\n",
    "play_scene_list1[\"num_words_upper\"] = play_scene_list1[\"text\"].apply(lambda x: len([w for w in str(x).split() if w.isupper()]))\n",
    "\n",
    "## Number of title case words in the text ##\n",
    "play_scene_list1[\"num_words_title\"] = play_scene_list1[\"text\"].apply(lambda x: len([w for w in str(x).split() if w.istitle()]))\n",
    "\n",
    "## Average length of the words in the text ##\n",
    "play_scene_list1[\"mean_word_len\"] = play_scene_list1[\"text\"].apply(lambda x: np.mean([len(w) for w in str(x).split()]))\n",
    "\n",
    "## Number of noun phrases in text ## \n",
    "all_text = play_scene_list1.text.values\n",
    "#TextBlob(train.iloc[3][1]).noun_phrases\n",
    "play_scene_list1['num_noun_phrases'] =  [len(TextBlob(blobs).noun_phrases) for blobs in all_text]"
   ]
  },
  {
   "cell_type": "code",
   "execution_count": 24,
   "metadata": {
    "collapsed": true
   },
   "outputs": [],
   "source": [
    "## Average sentiment by word\n",
    "play_scene_list1[\"avg_sentiment\"] = play_scene_list1[\"text\"].apply(lambda x: np.mean([TextBlob(w).sentiment.polarity for w in str(x).split()]))"
   ]
  },
  {
   "cell_type": "code",
   "execution_count": 25,
   "metadata": {
    "collapsed": true
   },
   "outputs": [],
   "source": [
    "## Number of words with positive sentiments\n",
    "play_scene_list1[\"nb_words_positive\"] = play_scene_list1[\"text\"].apply(lambda x: sum([TextBlob(w).sentiment.polarity>0.2 for w in str(x).split()]))\n",
    "\n",
    "## Number of words with negative sentiments\n",
    "play_scene_list1[\"nb_words_negative\"] = play_scene_list1[\"text\"].apply(lambda x: sum([TextBlob(w).sentiment.polarity<-0.2 for w in str(x).split()]))"
   ]
  },
  {
   "cell_type": "markdown",
   "metadata": {},
   "source": [
    "### Metrics analysis"
   ]
  },
  {
   "cell_type": "code",
   "execution_count": 26,
   "metadata": {},
   "outputs": [
    {
     "data": {
      "image/png": "[encoded data removed]",
      "text/plain": [
       "<matplotlib.figure.Figure at 0x212bb668>"
      ]
     },
     "metadata": {},
     "output_type": "display_data"
    }
   ],
   "source": [
    "#diff=play_scene_list1[\"avg_sentiment\"]-pd.DataFrame(sentiments)['sentiment']\n",
    "plt.scatter(pd.DataFrame(sentiments)['sentiment'],play_scene_list1[\"avg_sentiment\"])\n",
    "plt.show()"
   ]
  },
  {
   "cell_type": "markdown",
   "metadata": {},
   "source": [
    "### Just to do some testing, we can see that if we calculate the sentiment of the whole play directly or calculate the sentiment of each word in the play then average them, this will lead to different sentiment."
   ]
  },
  {
   "cell_type": "code",
   "execution_count": 27,
   "metadata": {},
   "outputs": [
    {
     "data": {
      "image/png": "[encoded data removed]",
      "text/plain": [
       "<matplotlib.figure.Figure at 0x1dabbfd0>"
      ]
     },
     "metadata": {},
     "output_type": "display_data"
    }
   ],
   "source": [
    "plt.scatter(pd.DataFrame(sentiments)['sentiment'],play_scene_list1[\"nb_words_positive\"])\n",
    "plt.show()"
   ]
  },
  {
   "cell_type": "markdown",
   "metadata": {},
   "source": [
    "### The above plot confirms that plays with high number of words have a sentiment slightly positive but plays with lower number of words have more variabilities in sentiments"
   ]
  },
  {
   "cell_type": "code",
   "execution_count": 28,
   "metadata": {},
   "outputs": [
    {
     "data": {
      "image/png": "[encoded data removed]",
      "text/plain": [
       "<matplotlib.figure.Figure at 0x213d5dd8>"
      ]
     },
     "metadata": {},
     "output_type": "display_data"
    }
   ],
   "source": [
    "plt.scatter(pd.DataFrame(sentiments)['sentiment'],play_scene_list1[\"nb_words_negative\"])\n",
    "plt.show()"
   ]
  },
  {
   "cell_type": "markdown",
   "metadata": {},
   "source": [
    "### The above is misleading and shows zero correlation between the sentiment of the whole play and the number of positive sentiments in each play (same for negative). Lets normalize these number by dividing over the number of words in each play "
   ]
  },
  {
   "cell_type": "code",
   "execution_count": 29,
   "metadata": {
    "collapsed": true
   },
   "outputs": [],
   "source": [
    "## Number of words with positive sentiments\n",
    "play_scene_list1[\"nb_words_positive_n\"] = play_scene_list1[\"text\"].apply(lambda x: sum([TextBlob(w).sentiment.polarity>0.2 for w in str(x).split()])/len(str(x).split()))\n",
    "\n",
    "## Number of words with negative sentiments\n",
    "play_scene_list1[\"nb_words_negative_n\"] = play_scene_list1[\"text\"].apply(lambda x: sum([TextBlob(w).sentiment.polarity<-0.2 for w in str(x).split()])/len(str(x).split()))"
   ]
  },
  {
   "cell_type": "code",
   "execution_count": 30,
   "metadata": {},
   "outputs": [
    {
     "data": {
      "image/png": "[encoded data removed]",
      "text/plain": [
       "<matplotlib.figure.Figure at 0x2136ba58>"
      ]
     },
     "metadata": {},
     "output_type": "display_data"
    },
    {
     "data": {
      "image/png": "[encoded data removed]",
      "text/plain": [
       "<matplotlib.figure.Figure at 0x21363470>"
      ]
     },
     "metadata": {},
     "output_type": "display_data"
    }
   ],
   "source": [
    "plt.scatter(pd.DataFrame(sentiments)['sentiment'],play_scene_list1[\"nb_words_positive_n\"])\n",
    "plt.show()\n",
    "plt.scatter(pd.DataFrame(sentiments)['sentiment'],play_scene_list1[\"nb_words_negative_n\"])\n",
    "plt.show()"
   ]
  },
  {
   "cell_type": "code",
   "execution_count": 31,
   "metadata": {},
   "outputs": [
    {
     "data": {
      "image/png": "[encoded data removed]",
      "text/plain": [
       "<matplotlib.figure.Figure at 0x2130a2b0>"
      ]
     },
     "metadata": {},
     "output_type": "display_data"
    },
    {
     "data": {
      "image/png": "[encoded data removed]",
      "text/plain": [
       "<matplotlib.figure.Figure at 0x21222cf8>"
      ]
     },
     "metadata": {},
     "output_type": "display_data"
    },
    {
     "data": {
      "image/png": "[encoded data removed]",
      "text/plain": [
       "<matplotlib.figure.Figure at 0x21302da0>"
      ]
     },
     "metadata": {},
     "output_type": "display_data"
    },
    {
     "data": {
      "image/png": "[encoded data removed]",
      "text/plain": [
       "<matplotlib.figure.Figure at 0x1d298080>"
      ]
     },
     "metadata": {},
     "output_type": "display_data"
    },
    {
     "data": {
      "image/png": "[encoded data removed]",
      "text/plain": [
       "<matplotlib.figure.Figure at 0x1ca9fda0>"
      ]
     },
     "metadata": {},
     "output_type": "display_data"
    },
    {
     "data": {
      "image/png": "[encoded data removed]",
      "text/plain": [
       "<matplotlib.figure.Figure at 0x1cb74550>"
      ]
     },
     "metadata": {},
     "output_type": "display_data"
    },
    {
     "data": {
      "image/png": "[encoded data removed]",
      "text/plain": [
       "<matplotlib.figure.Figure at 0x1cc610b8>"
      ]
     },
     "metadata": {},
     "output_type": "display_data"
    },
    {
     "data": {
      "image/png": "[encoded data removed]",
      "text/plain": [
       "<matplotlib.figure.Figure at 0x21146eb8>"
      ]
     },
     "metadata": {},
     "output_type": "display_data"
    },
    {
     "data": {
      "image/png": "[encoded data removed]",
      "text/plain": [
       "<matplotlib.figure.Figure at 0x229ab3c8>"
      ]
     },
     "metadata": {},
     "output_type": "display_data"
    },
    {
     "data": {
      "image/png": "[encoded data removed]",
      "text/plain": [
       "<matplotlib.figure.Figure at 0x22f733c8>"
      ]
     },
     "metadata": {},
     "output_type": "display_data"
    },
    {
     "data": {
      "image/png": "[encoded data removed]",
      "text/plain": [
       "<matplotlib.figure.Figure at 0x2292a320>"
      ]
     },
     "metadata": {},
     "output_type": "display_data"
    }
   ],
   "source": [
    "_=play_scene_list1[['Date','num_words']].boxplot(by='Date')\n",
    "_=play_scene_list1[['Date','num_unique_words']].boxplot(by='Date')\n",
    "_=play_scene_list1[['Date','num_chars']].boxplot(by='Date')\n",
    "_=play_scene_list1[['Date','num_stopwords']].boxplot(by='Date')\n",
    "_=play_scene_list1[['Date','num_punctuations']].boxplot(by='Date')\n",
    "_=play_scene_list1[['Date','num_words_upper']].boxplot(by='Date')\n",
    "_=play_scene_list1[['Date','num_words_title']].boxplot(by='Date')\n",
    "_=play_scene_list1[['Date','mean_word_len']].boxplot(by='Date')\n",
    "_=play_scene_list1[['Date','num_noun_phrases']].boxplot(by='Date')\n",
    "_=play_scene_list1[['Date','nb_words_positive_n']].boxplot(by='Date')\n",
    "_=play_scene_list1[['Date','nb_words_negative_n']].boxplot(by='Date')"
   ]
  },
  {
   "cell_type": "markdown",
   "metadata": {},
   "source": [
    "### Therefore based on the above plots, we can conclude our hypothesis by saying that the structure and sentiment of shakespeare plays doesn't show any trend overtime (small changes with some volatility that can be random)."
   ]
  }
 ],
 "metadata": {
  "kernelspec": {
   "display_name": "Python 3",
   "language": "python",
   "name": "python3"
  },
  "language_info": {
   "codemirror_mode": {
    "name": "ipython",
    "version": 3
   },
   "file_extension": ".py",
   "mimetype": "text/x-python",
   "name": "python",
   "nbconvert_exporter": "python",
   "pygments_lexer": "ipython3",
   "version": "3.6.1"
  }
 },
 "nbformat": 4,
 "nbformat_minor": 2
}
